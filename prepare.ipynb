{
 "cells": [
  {
   "cell_type": "markdown",
   "id": "70733ecb",
   "metadata": {},
   "source": [
    "# Exercises\n",
    "\n",
    "# The end result of this exercise should be a file named prepare.py.\n",
    "\n",
    "# Using your store items data:\n",
    "\n",
    "# 1. Convert date column to datetime format."
   ]
  },
  {
   "cell_type": "code",
   "execution_count": 7,
   "id": "6b16761a",
   "metadata": {},
   "outputs": [],
   "source": [
    "# import\n",
    "import pandas as pd\n",
    "import numpy as np\n",
    "import matplotlib.pyplot as plt\n",
    "import warnings\n",
    "warnings.filterwarnings(\"ignore\")\n",
    "from datetime import timedelta, datetime\n",
    "\n",
    "import acquire as a\n"
   ]
  },
  {
   "cell_type": "code",
   "execution_count": 8,
   "id": "28369734",
   "metadata": {},
   "outputs": [
    {
     "name": "stdout",
     "output_type": "stream",
     "text": [
      "Data is cached. Reading from .csv files\n",
      "Items data acquired...\n",
      "Stores data acquired...\n",
      "Sales data acquired...\n",
      "Acquisition complete\n"
     ]
    }
   ],
   "source": [
    "df = a.get_store_data()"
   ]
  },
  {
   "cell_type": "code",
   "execution_count": 9,
   "id": "32d4aa0c",
   "metadata": {},
   "outputs": [
    {
     "name": "stdout",
     "output_type": "stream",
     "text": [
      "(913000, 17)\n"
     ]
    },
    {
     "data": {
      "text/html": [
       "<div>\n",
       "<style scoped>\n",
       "    .dataframe tbody tr th:only-of-type {\n",
       "        vertical-align: middle;\n",
       "    }\n",
       "\n",
       "    .dataframe tbody tr th {\n",
       "        vertical-align: top;\n",
       "    }\n",
       "\n",
       "    .dataframe thead th {\n",
       "        text-align: right;\n",
       "    }\n",
       "</style>\n",
       "<table border=\"1\" class=\"dataframe\">\n",
       "  <thead>\n",
       "    <tr style=\"text-align: right;\">\n",
       "      <th></th>\n",
       "      <th>Unnamed: 0_x</th>\n",
       "      <th>sale_amount</th>\n",
       "      <th>sale_date</th>\n",
       "      <th>sale_id</th>\n",
       "      <th>Unnamed: 0_y</th>\n",
       "      <th>item_brand</th>\n",
       "      <th>item_id</th>\n",
       "      <th>item_name</th>\n",
       "      <th>item_price</th>\n",
       "      <th>item_upc12</th>\n",
       "      <th>item_upc14</th>\n",
       "      <th>Unnamed: 0</th>\n",
       "      <th>store_address</th>\n",
       "      <th>store_city</th>\n",
       "      <th>store_id</th>\n",
       "      <th>store_state</th>\n",
       "      <th>store_zipcode</th>\n",
       "    </tr>\n",
       "  </thead>\n",
       "  <tbody>\n",
       "    <tr>\n",
       "      <th>0</th>\n",
       "      <td>0</td>\n",
       "      <td>13.0</td>\n",
       "      <td>Tue, 01 Jan 2013 00:00:00 GMT</td>\n",
       "      <td>1</td>\n",
       "      <td>0</td>\n",
       "      <td>Riceland</td>\n",
       "      <td>1</td>\n",
       "      <td>Riceland American Jazmine Rice</td>\n",
       "      <td>0.84</td>\n",
       "      <td>35200264013</td>\n",
       "      <td>35200264013</td>\n",
       "      <td>0</td>\n",
       "      <td>12125 Alamo Ranch Pkwy</td>\n",
       "      <td>San Antonio</td>\n",
       "      <td>1</td>\n",
       "      <td>TX</td>\n",
       "      <td>78253</td>\n",
       "    </tr>\n",
       "  </tbody>\n",
       "</table>\n",
       "</div>"
      ],
      "text/plain": [
       "   Unnamed: 0_x  sale_amount                      sale_date  sale_id  \\\n",
       "0             0         13.0  Tue, 01 Jan 2013 00:00:00 GMT        1   \n",
       "\n",
       "   Unnamed: 0_y item_brand  item_id                       item_name  \\\n",
       "0             0   Riceland        1  Riceland American Jazmine Rice   \n",
       "\n",
       "   item_price   item_upc12   item_upc14  Unnamed: 0           store_address  \\\n",
       "0        0.84  35200264013  35200264013           0  12125 Alamo Ranch Pkwy   \n",
       "\n",
       "    store_city  store_id store_state  store_zipcode  \n",
       "0  San Antonio         1          TX          78253  "
      ]
     },
     "execution_count": 9,
     "metadata": {},
     "output_type": "execute_result"
    }
   ],
   "source": [
    "print(df.shape)\n",
    "df.head(1)"
   ]
  },
  {
   "cell_type": "code",
   "execution_count": 10,
   "id": "ecc056cd",
   "metadata": {},
   "outputs": [
    {
     "name": "stdout",
     "output_type": "stream",
     "text": [
      "<class 'pandas.core.frame.DataFrame'>\n",
      "Int64Index: 913000 entries, 0 to 912999\n",
      "Data columns (total 17 columns):\n",
      " #   Column         Non-Null Count   Dtype  \n",
      "---  ------         --------------   -----  \n",
      " 0   Unnamed: 0_x   913000 non-null  int64  \n",
      " 1   sale_amount    913000 non-null  float64\n",
      " 2   sale_date      913000 non-null  object \n",
      " 3   sale_id        913000 non-null  int64  \n",
      " 4   Unnamed: 0_y   913000 non-null  int64  \n",
      " 5   item_brand     913000 non-null  object \n",
      " 6   item_id        913000 non-null  int64  \n",
      " 7   item_name      913000 non-null  object \n",
      " 8   item_price     913000 non-null  float64\n",
      " 9   item_upc12     913000 non-null  int64  \n",
      " 10  item_upc14     913000 non-null  int64  \n",
      " 11  Unnamed: 0     913000 non-null  int64  \n",
      " 12  store_address  913000 non-null  object \n",
      " 13  store_city     913000 non-null  object \n",
      " 14  store_id       913000 non-null  int64  \n",
      " 15  store_state    913000 non-null  object \n",
      " 16  store_zipcode  913000 non-null  int64  \n",
      "dtypes: float64(2), int64(9), object(6)\n",
      "memory usage: 125.4+ MB\n"
     ]
    }
   ],
   "source": [
    "df.info()"
   ]
  },
  {
   "cell_type": "code",
   "execution_count": 11,
   "id": "f7a7497f",
   "metadata": {},
   "outputs": [],
   "source": [
    "df['sale_date'] = pd.to_datetime(df['sale_date'])\n",
    "# df['Date']= pd.to_datetime(df['Date'])"
   ]
  },
  {
   "cell_type": "code",
   "execution_count": 12,
   "id": "8b876f09",
   "metadata": {},
   "outputs": [
    {
     "name": "stdout",
     "output_type": "stream",
     "text": [
      "<class 'pandas.core.frame.DataFrame'>\n",
      "Int64Index: 913000 entries, 0 to 912999\n",
      "Data columns (total 17 columns):\n",
      " #   Column         Non-Null Count   Dtype              \n",
      "---  ------         --------------   -----              \n",
      " 0   Unnamed: 0_x   913000 non-null  int64              \n",
      " 1   sale_amount    913000 non-null  float64            \n",
      " 2   sale_date      913000 non-null  datetime64[ns, UTC]\n",
      " 3   sale_id        913000 non-null  int64              \n",
      " 4   Unnamed: 0_y   913000 non-null  int64              \n",
      " 5   item_brand     913000 non-null  object             \n",
      " 6   item_id        913000 non-null  int64              \n",
      " 7   item_name      913000 non-null  object             \n",
      " 8   item_price     913000 non-null  float64            \n",
      " 9   item_upc12     913000 non-null  int64              \n",
      " 10  item_upc14     913000 non-null  int64              \n",
      " 11  Unnamed: 0     913000 non-null  int64              \n",
      " 12  store_address  913000 non-null  object             \n",
      " 13  store_city     913000 non-null  object             \n",
      " 14  store_id       913000 non-null  int64              \n",
      " 15  store_state    913000 non-null  object             \n",
      " 16  store_zipcode  913000 non-null  int64              \n",
      "dtypes: datetime64[ns, UTC](1), float64(2), int64(9), object(5)\n",
      "memory usage: 125.4+ MB\n"
     ]
    }
   ],
   "source": [
    "df.info()"
   ]
  },
  {
   "cell_type": "markdown",
   "id": "2cfc33c3",
   "metadata": {},
   "source": [
    "# 2. Plot the distribution of sale_amount and item_price."
   ]
  },
  {
   "cell_type": "code",
   "execution_count": 13,
   "id": "41b761a0",
   "metadata": {},
   "outputs": [],
   "source": [
    "# set index and sort index for sale_date\n",
    "df = df.set_index(df.sale_date).sort_index()\n"
   ]
  },
  {
   "cell_type": "code",
   "execution_count": 14,
   "id": "d3a016f9",
   "metadata": {},
   "outputs": [
    {
     "name": "stdout",
     "output_type": "stream",
     "text": [
      "<class 'pandas.core.frame.DataFrame'>\n",
      "DatetimeIndex: 913000 entries, 2013-01-01 00:00:00+00:00 to 2017-12-31 00:00:00+00:00\n",
      "Data columns (total 17 columns):\n",
      " #   Column         Non-Null Count   Dtype              \n",
      "---  ------         --------------   -----              \n",
      " 0   Unnamed: 0_x   913000 non-null  int64              \n",
      " 1   sale_amount    913000 non-null  float64            \n",
      " 2   sale_date      913000 non-null  datetime64[ns, UTC]\n",
      " 3   sale_id        913000 non-null  int64              \n",
      " 4   Unnamed: 0_y   913000 non-null  int64              \n",
      " 5   item_brand     913000 non-null  object             \n",
      " 6   item_id        913000 non-null  int64              \n",
      " 7   item_name      913000 non-null  object             \n",
      " 8   item_price     913000 non-null  float64            \n",
      " 9   item_upc12     913000 non-null  int64              \n",
      " 10  item_upc14     913000 non-null  int64              \n",
      " 11  Unnamed: 0     913000 non-null  int64              \n",
      " 12  store_address  913000 non-null  object             \n",
      " 13  store_city     913000 non-null  object             \n",
      " 14  store_id       913000 non-null  int64              \n",
      " 15  store_state    913000 non-null  object             \n",
      " 16  store_zipcode  913000 non-null  int64              \n",
      "dtypes: datetime64[ns, UTC](1), float64(2), int64(9), object(5)\n",
      "memory usage: 125.4+ MB\n"
     ]
    }
   ],
   "source": [
    "df.info()"
   ]
  },
  {
   "cell_type": "code",
   "execution_count": 16,
   "id": "dda7b459",
   "metadata": {},
   "outputs": [
    {
     "data": {
      "text/plain": [
       "<AxesSubplot:>"
      ]
     },
     "execution_count": 16,
     "metadata": {},
     "output_type": "execute_result"
    },
    {
     "data": {
      "image/png": "[encoded data removed]",
      "text/plain": [
       "<Figure size 432x288 with 1 Axes>"
      ]
     },
     "metadata": {
      "needs_background": "light"
     },
     "output_type": "display_data"
    }
   ],
   "source": [
    "df.sale_amount.hist()"
   ]
  },
  {
   "cell_type": "code",
   "execution_count": 17,
   "id": "c5860757",
   "metadata": {},
   "outputs": [
    {
     "data": {
      "text/plain": [
       "<AxesSubplot:>"
      ]
     },
     "execution_count": 17,
     "metadata": {},
     "output_type": "execute_result"
    },
    {
     "data": {
      "image/png": "[encoded data removed]",
      "text/plain": [
       "<Figure size 432x288 with 1 Axes>"
      ]
     },
     "metadata": {
      "needs_background": "light"
     },
     "output_type": "display_data"
    }
   ],
   "source": [
    "df.item_price.hist()"
   ]
  },
  {
   "cell_type": "markdown",
   "id": "6cb0ff8f",
   "metadata": {},
   "source": [
    "# 3. Set the index to be the datetime variable."
   ]
  },
  {
   "cell_type": "code",
   "execution_count": 19,
   "id": "dee3ce16",
   "metadata": {},
   "outputs": [],
   "source": [
    "# set index and sort index for sale_date\n",
    "df = df.set_index(df.sale_date).sort_index()"
   ]
  },
  {
   "cell_type": "code",
   "execution_count": 20,
   "id": "42288368",
   "metadata": {},
   "outputs": [
    {
     "data": {
      "text/html": [
       "<div>\n",
       "<style scoped>\n",
       "    .dataframe tbody tr th:only-of-type {\n",
       "        vertical-align: middle;\n",
       "    }\n",
       "\n",
       "    .dataframe tbody tr th {\n",
       "        vertical-align: top;\n",
       "    }\n",
       "\n",
       "    .dataframe thead th {\n",
       "        text-align: right;\n",
       "    }\n",
       "</style>\n",
       "<table border=\"1\" class=\"dataframe\">\n",
       "  <thead>\n",
       "    <tr style=\"text-align: right;\">\n",
       "      <th></th>\n",
       "      <th>Unnamed: 0_x</th>\n",
       "      <th>sale_amount</th>\n",
       "      <th>sale_date</th>\n",
       "      <th>sale_id</th>\n",
       "      <th>Unnamed: 0_y</th>\n",
       "      <th>item_brand</th>\n",
       "      <th>item_id</th>\n",
       "      <th>item_name</th>\n",
       "      <th>item_price</th>\n",
       "      <th>item_upc12</th>\n",
       "      <th>item_upc14</th>\n",
       "      <th>Unnamed: 0</th>\n",
       "      <th>store_address</th>\n",
       "      <th>store_city</th>\n",
       "      <th>store_id</th>\n",
       "      <th>store_state</th>\n",
       "      <th>store_zipcode</th>\n",
       "    </tr>\n",
       "    <tr>\n",
       "      <th>sale_date</th>\n",
       "      <th></th>\n",
       "      <th></th>\n",
       "      <th></th>\n",
       "      <th></th>\n",
       "      <th></th>\n",
       "      <th></th>\n",
       "      <th></th>\n",
       "      <th></th>\n",
       "      <th></th>\n",
       "      <th></th>\n",
       "      <th></th>\n",
       "      <th></th>\n",
       "      <th></th>\n",
       "      <th></th>\n",
       "      <th></th>\n",
       "      <th></th>\n",
       "      <th></th>\n",
       "    </tr>\n",
       "  </thead>\n",
       "  <tbody>\n",
       "    <tr>\n",
       "      <th>2013-01-01 00:00:00+00:00</th>\n",
       "      <td>0</td>\n",
       "      <td>13.0</td>\n",
       "      <td>2013-01-01 00:00:00+00:00</td>\n",
       "      <td>1</td>\n",
       "      <td>0</td>\n",
       "      <td>Riceland</td>\n",
       "      <td>1</td>\n",
       "      <td>Riceland American Jazmine Rice</td>\n",
       "      <td>0.84</td>\n",
       "      <td>35200264013</td>\n",
       "      <td>35200264013</td>\n",
       "      <td>0</td>\n",
       "      <td>12125 Alamo Ranch Pkwy</td>\n",
       "      <td>San Antonio</td>\n",
       "      <td>1</td>\n",
       "      <td>TX</td>\n",
       "      <td>78253</td>\n",
       "    </tr>\n",
       "    <tr>\n",
       "      <th>2013-01-01 00:00:00+00:00</th>\n",
       "      <td>211816</td>\n",
       "      <td>26.0</td>\n",
       "      <td>2013-01-01 00:00:00+00:00</td>\n",
       "      <td>211817</td>\n",
       "      <td>11</td>\n",
       "      <td>Mueller</td>\n",
       "      <td>12</td>\n",
       "      <td>Mueller Sport Care Basic Support Level Medium ...</td>\n",
       "      <td>8.40</td>\n",
       "      <td>74676640211</td>\n",
       "      <td>74676640211</td>\n",
       "      <td>6</td>\n",
       "      <td>12018 Perrin Beitel Rd</td>\n",
       "      <td>San Antonio</td>\n",
       "      <td>7</td>\n",
       "      <td>TX</td>\n",
       "      <td>78217</td>\n",
       "    </tr>\n",
       "    <tr>\n",
       "      <th>2013-01-01 00:00:00+00:00</th>\n",
       "      <td>832656</td>\n",
       "      <td>27.0</td>\n",
       "      <td>2013-01-01 00:00:00+00:00</td>\n",
       "      <td>832657</td>\n",
       "      <td>45</td>\n",
       "      <td>Mama Marys</td>\n",
       "      <td>46</td>\n",
       "      <td>Pizza Sauce</td>\n",
       "      <td>4.65</td>\n",
       "      <td>35457770664</td>\n",
       "      <td>35457770664</td>\n",
       "      <td>6</td>\n",
       "      <td>12018 Perrin Beitel Rd</td>\n",
       "      <td>San Antonio</td>\n",
       "      <td>7</td>\n",
       "      <td>TX</td>\n",
       "      <td>78217</td>\n",
       "    </tr>\n",
       "    <tr>\n",
       "      <th>2013-01-01 00:00:00+00:00</th>\n",
       "      <td>213642</td>\n",
       "      <td>54.0</td>\n",
       "      <td>2013-01-01 00:00:00+00:00</td>\n",
       "      <td>213643</td>\n",
       "      <td>11</td>\n",
       "      <td>Mueller</td>\n",
       "      <td>12</td>\n",
       "      <td>Mueller Sport Care Basic Support Level Medium ...</td>\n",
       "      <td>8.40</td>\n",
       "      <td>74676640211</td>\n",
       "      <td>74676640211</td>\n",
       "      <td>7</td>\n",
       "      <td>15000 San Pedro Ave</td>\n",
       "      <td>San Antonio</td>\n",
       "      <td>8</td>\n",
       "      <td>TX</td>\n",
       "      <td>78232</td>\n",
       "    </tr>\n",
       "    <tr>\n",
       "      <th>2013-01-01 00:00:00+00:00</th>\n",
       "      <td>215468</td>\n",
       "      <td>35.0</td>\n",
       "      <td>2013-01-01 00:00:00+00:00</td>\n",
       "      <td>215469</td>\n",
       "      <td>11</td>\n",
       "      <td>Mueller</td>\n",
       "      <td>12</td>\n",
       "      <td>Mueller Sport Care Basic Support Level Medium ...</td>\n",
       "      <td>8.40</td>\n",
       "      <td>74676640211</td>\n",
       "      <td>74676640211</td>\n",
       "      <td>8</td>\n",
       "      <td>735 SW Military Dr</td>\n",
       "      <td>San Antonio</td>\n",
       "      <td>9</td>\n",
       "      <td>TX</td>\n",
       "      <td>78221</td>\n",
       "    </tr>\n",
       "  </tbody>\n",
       "</table>\n",
       "</div>"
      ],
      "text/plain": [
       "                           Unnamed: 0_x  sale_amount  \\\n",
       "sale_date                                              \n",
       "2013-01-01 00:00:00+00:00             0         13.0   \n",
       "2013-01-01 00:00:00+00:00        211816         26.0   \n",
       "2013-01-01 00:00:00+00:00        832656         27.0   \n",
       "2013-01-01 00:00:00+00:00        213642         54.0   \n",
       "2013-01-01 00:00:00+00:00        215468         35.0   \n",
       "\n",
       "                                          sale_date  sale_id  Unnamed: 0_y  \\\n",
       "sale_date                                                                    \n",
       "2013-01-01 00:00:00+00:00 2013-01-01 00:00:00+00:00        1             0   \n",
       "2013-01-01 00:00:00+00:00 2013-01-01 00:00:00+00:00   211817            11   \n",
       "2013-01-01 00:00:00+00:00 2013-01-01 00:00:00+00:00   832657            45   \n",
       "2013-01-01 00:00:00+00:00 2013-01-01 00:00:00+00:00   213643            11   \n",
       "2013-01-01 00:00:00+00:00 2013-01-01 00:00:00+00:00   215469            11   \n",
       "\n",
       "                           item_brand  item_id  \\\n",
       "sale_date                                        \n",
       "2013-01-01 00:00:00+00:00    Riceland        1   \n",
       "2013-01-01 00:00:00+00:00     Mueller       12   \n",
       "2013-01-01 00:00:00+00:00  Mama Marys       46   \n",
       "2013-01-01 00:00:00+00:00     Mueller       12   \n",
       "2013-01-01 00:00:00+00:00     Mueller       12   \n",
       "\n",
       "                                                                   item_name  \\\n",
       "sale_date                                                                      \n",
       "2013-01-01 00:00:00+00:00                     Riceland American Jazmine Rice   \n",
       "2013-01-01 00:00:00+00:00  Mueller Sport Care Basic Support Level Medium ...   \n",
       "2013-01-01 00:00:00+00:00                                        Pizza Sauce   \n",
       "2013-01-01 00:00:00+00:00  Mueller Sport Care Basic Support Level Medium ...   \n",
       "2013-01-01 00:00:00+00:00  Mueller Sport Care Basic Support Level Medium ...   \n",
       "\n",
       "                           item_price   item_upc12   item_upc14  Unnamed: 0  \\\n",
       "sale_date                                                                     \n",
       "2013-01-01 00:00:00+00:00        0.84  35200264013  35200264013           0   \n",
       "2013-01-01 00:00:00+00:00        8.40  74676640211  74676640211           6   \n",
       "2013-01-01 00:00:00+00:00        4.65  35457770664  35457770664           6   \n",
       "2013-01-01 00:00:00+00:00        8.40  74676640211  74676640211           7   \n",
       "2013-01-01 00:00:00+00:00        8.40  74676640211  74676640211           8   \n",
       "\n",
       "                                    store_address   store_city  store_id  \\\n",
       "sale_date                                                                  \n",
       "2013-01-01 00:00:00+00:00  12125 Alamo Ranch Pkwy  San Antonio         1   \n",
       "2013-01-01 00:00:00+00:00  12018 Perrin Beitel Rd  San Antonio         7   \n",
       "2013-01-01 00:00:00+00:00  12018 Perrin Beitel Rd  San Antonio         7   \n",
       "2013-01-01 00:00:00+00:00     15000 San Pedro Ave  San Antonio         8   \n",
       "2013-01-01 00:00:00+00:00      735 SW Military Dr  San Antonio         9   \n",
       "\n",
       "                          store_state  store_zipcode  \n",
       "sale_date                                             \n",
       "2013-01-01 00:00:00+00:00          TX          78253  \n",
       "2013-01-01 00:00:00+00:00          TX          78217  \n",
       "2013-01-01 00:00:00+00:00          TX          78217  \n",
       "2013-01-01 00:00:00+00:00          TX          78232  \n",
       "2013-01-01 00:00:00+00:00          TX          78221  "
      ]
     },
     "execution_count": 20,
     "metadata": {},
     "output_type": "execute_result"
    }
   ],
   "source": [
    "df.head()"
   ]
  },
  {
   "cell_type": "markdown",
   "id": "721d5cb7",
   "metadata": {},
   "source": [
    "# 4. Add a 'month' and 'day of week' column to your dataframe."
   ]
  },
  {
   "cell_type": "code",
   "execution_count": 21,
   "id": "83f70e9b",
   "metadata": {},
   "outputs": [],
   "source": [
    "df['month'] = df.sale_date.dt.month\n",
    "df['day of week'] = df.sale_date.dt.day_name()"
   ]
  },
  {
   "cell_type": "code",
   "execution_count": 22,
   "id": "bdfd3a1a",
   "metadata": {},
   "outputs": [
    {
     "data": {
      "text/html": [
       "<div>\n",
       "<style scoped>\n",
       "    .dataframe tbody tr th:only-of-type {\n",
       "        vertical-align: middle;\n",
       "    }\n",
       "\n",
       "    .dataframe tbody tr th {\n",
       "        vertical-align: top;\n",
       "    }\n",
       "\n",
       "    .dataframe thead th {\n",
       "        text-align: right;\n",
       "    }\n",
       "</style>\n",
       "<table border=\"1\" class=\"dataframe\">\n",
       "  <thead>\n",
       "    <tr style=\"text-align: right;\">\n",
       "      <th></th>\n",
       "      <th>Unnamed: 0_x</th>\n",
       "      <th>sale_amount</th>\n",
       "      <th>sale_date</th>\n",
       "      <th>sale_id</th>\n",
       "      <th>Unnamed: 0_y</th>\n",
       "      <th>item_brand</th>\n",
       "      <th>item_id</th>\n",
       "      <th>item_name</th>\n",
       "      <th>item_price</th>\n",
       "      <th>item_upc12</th>\n",
       "      <th>item_upc14</th>\n",
       "      <th>Unnamed: 0</th>\n",
       "      <th>store_address</th>\n",
       "      <th>store_city</th>\n",
       "      <th>store_id</th>\n",
       "      <th>store_state</th>\n",
       "      <th>store_zipcode</th>\n",
       "      <th>month</th>\n",
       "      <th>day of week</th>\n",
       "    </tr>\n",
       "    <tr>\n",
       "      <th>sale_date</th>\n",
       "      <th></th>\n",
       "      <th></th>\n",
       "      <th></th>\n",
       "      <th></th>\n",
       "      <th></th>\n",
       "      <th></th>\n",
       "      <th></th>\n",
       "      <th></th>\n",
       "      <th></th>\n",
       "      <th></th>\n",
       "      <th></th>\n",
       "      <th></th>\n",
       "      <th></th>\n",
       "      <th></th>\n",
       "      <th></th>\n",
       "      <th></th>\n",
       "      <th></th>\n",
       "      <th></th>\n",
       "      <th></th>\n",
       "    </tr>\n",
       "  </thead>\n",
       "  <tbody>\n",
       "    <tr>\n",
       "      <th>2013-01-01 00:00:00+00:00</th>\n",
       "      <td>0</td>\n",
       "      <td>13.0</td>\n",
       "      <td>2013-01-01 00:00:00+00:00</td>\n",
       "      <td>1</td>\n",
       "      <td>0</td>\n",
       "      <td>Riceland</td>\n",
       "      <td>1</td>\n",
       "      <td>Riceland American Jazmine Rice</td>\n",
       "      <td>0.84</td>\n",
       "      <td>35200264013</td>\n",
       "      <td>35200264013</td>\n",
       "      <td>0</td>\n",
       "      <td>12125 Alamo Ranch Pkwy</td>\n",
       "      <td>San Antonio</td>\n",
       "      <td>1</td>\n",
       "      <td>TX</td>\n",
       "      <td>78253</td>\n",
       "      <td>1</td>\n",
       "      <td>Tuesday</td>\n",
       "    </tr>\n",
       "    <tr>\n",
       "      <th>2013-01-01 00:00:00+00:00</th>\n",
       "      <td>211816</td>\n",
       "      <td>26.0</td>\n",
       "      <td>2013-01-01 00:00:00+00:00</td>\n",
       "      <td>211817</td>\n",
       "      <td>11</td>\n",
       "      <td>Mueller</td>\n",
       "      <td>12</td>\n",
       "      <td>Mueller Sport Care Basic Support Level Medium ...</td>\n",
       "      <td>8.40</td>\n",
       "      <td>74676640211</td>\n",
       "      <td>74676640211</td>\n",
       "      <td>6</td>\n",
       "      <td>12018 Perrin Beitel Rd</td>\n",
       "      <td>San Antonio</td>\n",
       "      <td>7</td>\n",
       "      <td>TX</td>\n",
       "      <td>78217</td>\n",
       "      <td>1</td>\n",
       "      <td>Tuesday</td>\n",
       "    </tr>\n",
       "    <tr>\n",
       "      <th>2013-01-01 00:00:00+00:00</th>\n",
       "      <td>832656</td>\n",
       "      <td>27.0</td>\n",
       "      <td>2013-01-01 00:00:00+00:00</td>\n",
       "      <td>832657</td>\n",
       "      <td>45</td>\n",
       "      <td>Mama Marys</td>\n",
       "      <td>46</td>\n",
       "      <td>Pizza Sauce</td>\n",
       "      <td>4.65</td>\n",
       "      <td>35457770664</td>\n",
       "      <td>35457770664</td>\n",
       "      <td>6</td>\n",
       "      <td>12018 Perrin Beitel Rd</td>\n",
       "      <td>San Antonio</td>\n",
       "      <td>7</td>\n",
       "      <td>TX</td>\n",
       "      <td>78217</td>\n",
       "      <td>1</td>\n",
       "      <td>Tuesday</td>\n",
       "    </tr>\n",
       "    <tr>\n",
       "      <th>2013-01-01 00:00:00+00:00</th>\n",
       "      <td>213642</td>\n",
       "      <td>54.0</td>\n",
       "      <td>2013-01-01 00:00:00+00:00</td>\n",
       "      <td>213643</td>\n",
       "      <td>11</td>\n",
       "      <td>Mueller</td>\n",
       "      <td>12</td>\n",
       "      <td>Mueller Sport Care Basic Support Level Medium ...</td>\n",
       "      <td>8.40</td>\n",
       "      <td>74676640211</td>\n",
       "      <td>74676640211</td>\n",
       "      <td>7</td>\n",
       "      <td>15000 San Pedro Ave</td>\n",
       "      <td>San Antonio</td>\n",
       "      <td>8</td>\n",
       "      <td>TX</td>\n",
       "      <td>78232</td>\n",
       "      <td>1</td>\n",
       "      <td>Tuesday</td>\n",
       "    </tr>\n",
       "    <tr>\n",
       "      <th>2013-01-01 00:00:00+00:00</th>\n",
       "      <td>215468</td>\n",
       "      <td>35.0</td>\n",
       "      <td>2013-01-01 00:00:00+00:00</td>\n",
       "      <td>215469</td>\n",
       "      <td>11</td>\n",
       "      <td>Mueller</td>\n",
       "      <td>12</td>\n",
       "      <td>Mueller Sport Care Basic Support Level Medium ...</td>\n",
       "      <td>8.40</td>\n",
       "      <td>74676640211</td>\n",
       "      <td>74676640211</td>\n",
       "      <td>8</td>\n",
       "      <td>735 SW Military Dr</td>\n",
       "      <td>San Antonio</td>\n",
       "      <td>9</td>\n",
       "      <td>TX</td>\n",
       "      <td>78221</td>\n",
       "      <td>1</td>\n",
       "      <td>Tuesday</td>\n",
       "    </tr>\n",
       "  </tbody>\n",
       "</table>\n",
       "</div>"
      ],
      "text/plain": [
       "                           Unnamed: 0_x  sale_amount  \\\n",
       "sale_date                                              \n",
       "2013-01-01 00:00:00+00:00             0         13.0   \n",
       "2013-01-01 00:00:00+00:00        211816         26.0   \n",
       "2013-01-01 00:00:00+00:00        832656         27.0   \n",
       "2013-01-01 00:00:00+00:00        213642         54.0   \n",
       "2013-01-01 00:00:00+00:00        215468         35.0   \n",
       "\n",
       "                                          sale_date  sale_id  Unnamed: 0_y  \\\n",
       "sale_date                                                                    \n",
       "2013-01-01 00:00:00+00:00 2013-01-01 00:00:00+00:00        1             0   \n",
       "2013-01-01 00:00:00+00:00 2013-01-01 00:00:00+00:00   211817            11   \n",
       "2013-01-01 00:00:00+00:00 2013-01-01 00:00:00+00:00   832657            45   \n",
       "2013-01-01 00:00:00+00:00 2013-01-01 00:00:00+00:00   213643            11   \n",
       "2013-01-01 00:00:00+00:00 2013-01-01 00:00:00+00:00   215469            11   \n",
       "\n",
       "                           item_brand  item_id  \\\n",
       "sale_date                                        \n",
       "2013-01-01 00:00:00+00:00    Riceland        1   \n",
       "2013-01-01 00:00:00+00:00     Mueller       12   \n",
       "2013-01-01 00:00:00+00:00  Mama Marys       46   \n",
       "2013-01-01 00:00:00+00:00     Mueller       12   \n",
       "2013-01-01 00:00:00+00:00     Mueller       12   \n",
       "\n",
       "                                                                   item_name  \\\n",
       "sale_date                                                                      \n",
       "2013-01-01 00:00:00+00:00                     Riceland American Jazmine Rice   \n",
       "2013-01-01 00:00:00+00:00  Mueller Sport Care Basic Support Level Medium ...   \n",
       "2013-01-01 00:00:00+00:00                                        Pizza Sauce   \n",
       "2013-01-01 00:00:00+00:00  Mueller Sport Care Basic Support Level Medium ...   \n",
       "2013-01-01 00:00:00+00:00  Mueller Sport Care Basic Support Level Medium ...   \n",
       "\n",
       "                           item_price   item_upc12   item_upc14  Unnamed: 0  \\\n",
       "sale_date                                                                     \n",
       "2013-01-01 00:00:00+00:00        0.84  35200264013  35200264013           0   \n",
       "2013-01-01 00:00:00+00:00        8.40  74676640211  74676640211           6   \n",
       "2013-01-01 00:00:00+00:00        4.65  35457770664  35457770664           6   \n",
       "2013-01-01 00:00:00+00:00        8.40  74676640211  74676640211           7   \n",
       "2013-01-01 00:00:00+00:00        8.40  74676640211  74676640211           8   \n",
       "\n",
       "                                    store_address   store_city  store_id  \\\n",
       "sale_date                                                                  \n",
       "2013-01-01 00:00:00+00:00  12125 Alamo Ranch Pkwy  San Antonio         1   \n",
       "2013-01-01 00:00:00+00:00  12018 Perrin Beitel Rd  San Antonio         7   \n",
       "2013-01-01 00:00:00+00:00  12018 Perrin Beitel Rd  San Antonio         7   \n",
       "2013-01-01 00:00:00+00:00     15000 San Pedro Ave  San Antonio         8   \n",
       "2013-01-01 00:00:00+00:00      735 SW Military Dr  San Antonio         9   \n",
       "\n",
       "                          store_state  store_zipcode  month day of week  \n",
       "sale_date                                                                \n",
       "2013-01-01 00:00:00+00:00          TX          78253      1     Tuesday  \n",
       "2013-01-01 00:00:00+00:00          TX          78217      1     Tuesday  \n",
       "2013-01-01 00:00:00+00:00          TX          78217      1     Tuesday  \n",
       "2013-01-01 00:00:00+00:00          TX          78232      1     Tuesday  \n",
       "2013-01-01 00:00:00+00:00          TX          78221      1     Tuesday  "
      ]
     },
     "execution_count": 22,
     "metadata": {},
     "output_type": "execute_result"
    }
   ],
   "source": [
    "df.head(5)"
   ]
  },
  {
   "cell_type": "markdown",
   "id": "40220bac",
   "metadata": {},
   "source": [
    "# 5. Add a column to your dataframe, sales_total, which is a derived from sale_amount (total items) and item_price."
   ]
  },
  {
   "cell_type": "code",
   "execution_count": 23,
   "id": "1c30a9a1",
   "metadata": {},
   "outputs": [],
   "source": [
    "df['sales_total'] = df.sale_amount * df.item_price"
   ]
  },
  {
   "cell_type": "code",
   "execution_count": 24,
   "id": "f3beaf3a",
   "metadata": {},
   "outputs": [
    {
     "data": {
      "text/html": [
       "<div>\n",
       "<style scoped>\n",
       "    .dataframe tbody tr th:only-of-type {\n",
       "        vertical-align: middle;\n",
       "    }\n",
       "\n",
       "    .dataframe tbody tr th {\n",
       "        vertical-align: top;\n",
       "    }\n",
       "\n",
       "    .dataframe thead th {\n",
       "        text-align: right;\n",
       "    }\n",
       "</style>\n",
       "<table border=\"1\" class=\"dataframe\">\n",
       "  <thead>\n",
       "    <tr style=\"text-align: right;\">\n",
       "      <th></th>\n",
       "      <th>Unnamed: 0_x</th>\n",
       "      <th>sale_amount</th>\n",
       "      <th>sale_date</th>\n",
       "      <th>sale_id</th>\n",
       "      <th>Unnamed: 0_y</th>\n",
       "      <th>item_brand</th>\n",
       "      <th>item_id</th>\n",
       "      <th>item_name</th>\n",
       "      <th>item_price</th>\n",
       "      <th>item_upc12</th>\n",
       "      <th>item_upc14</th>\n",
       "      <th>Unnamed: 0</th>\n",
       "      <th>store_address</th>\n",
       "      <th>store_city</th>\n",
       "      <th>store_id</th>\n",
       "      <th>store_state</th>\n",
       "      <th>store_zipcode</th>\n",
       "      <th>month</th>\n",
       "      <th>day of week</th>\n",
       "      <th>sales_total</th>\n",
       "    </tr>\n",
       "    <tr>\n",
       "      <th>sale_date</th>\n",
       "      <th></th>\n",
       "      <th></th>\n",
       "      <th></th>\n",
       "      <th></th>\n",
       "      <th></th>\n",
       "      <th></th>\n",
       "      <th></th>\n",
       "      <th></th>\n",
       "      <th></th>\n",
       "      <th></th>\n",
       "      <th></th>\n",
       "      <th></th>\n",
       "      <th></th>\n",
       "      <th></th>\n",
       "      <th></th>\n",
       "      <th></th>\n",
       "      <th></th>\n",
       "      <th></th>\n",
       "      <th></th>\n",
       "      <th></th>\n",
       "    </tr>\n",
       "  </thead>\n",
       "  <tbody>\n",
       "    <tr>\n",
       "      <th>2013-01-01 00:00:00+00:00</th>\n",
       "      <td>0</td>\n",
       "      <td>13.0</td>\n",
       "      <td>2013-01-01 00:00:00+00:00</td>\n",
       "      <td>1</td>\n",
       "      <td>0</td>\n",
       "      <td>Riceland</td>\n",
       "      <td>1</td>\n",
       "      <td>Riceland American Jazmine Rice</td>\n",
       "      <td>0.84</td>\n",
       "      <td>35200264013</td>\n",
       "      <td>35200264013</td>\n",
       "      <td>0</td>\n",
       "      <td>12125 Alamo Ranch Pkwy</td>\n",
       "      <td>San Antonio</td>\n",
       "      <td>1</td>\n",
       "      <td>TX</td>\n",
       "      <td>78253</td>\n",
       "      <td>1</td>\n",
       "      <td>Tuesday</td>\n",
       "      <td>10.92</td>\n",
       "    </tr>\n",
       "    <tr>\n",
       "      <th>2013-01-01 00:00:00+00:00</th>\n",
       "      <td>211816</td>\n",
       "      <td>26.0</td>\n",
       "      <td>2013-01-01 00:00:00+00:00</td>\n",
       "      <td>211817</td>\n",
       "      <td>11</td>\n",
       "      <td>Mueller</td>\n",
       "      <td>12</td>\n",
       "      <td>Mueller Sport Care Basic Support Level Medium ...</td>\n",
       "      <td>8.40</td>\n",
       "      <td>74676640211</td>\n",
       "      <td>74676640211</td>\n",
       "      <td>6</td>\n",
       "      <td>12018 Perrin Beitel Rd</td>\n",
       "      <td>San Antonio</td>\n",
       "      <td>7</td>\n",
       "      <td>TX</td>\n",
       "      <td>78217</td>\n",
       "      <td>1</td>\n",
       "      <td>Tuesday</td>\n",
       "      <td>218.40</td>\n",
       "    </tr>\n",
       "    <tr>\n",
       "      <th>2013-01-01 00:00:00+00:00</th>\n",
       "      <td>832656</td>\n",
       "      <td>27.0</td>\n",
       "      <td>2013-01-01 00:00:00+00:00</td>\n",
       "      <td>832657</td>\n",
       "      <td>45</td>\n",
       "      <td>Mama Marys</td>\n",
       "      <td>46</td>\n",
       "      <td>Pizza Sauce</td>\n",
       "      <td>4.65</td>\n",
       "      <td>35457770664</td>\n",
       "      <td>35457770664</td>\n",
       "      <td>6</td>\n",
       "      <td>12018 Perrin Beitel Rd</td>\n",
       "      <td>San Antonio</td>\n",
       "      <td>7</td>\n",
       "      <td>TX</td>\n",
       "      <td>78217</td>\n",
       "      <td>1</td>\n",
       "      <td>Tuesday</td>\n",
       "      <td>125.55</td>\n",
       "    </tr>\n",
       "    <tr>\n",
       "      <th>2013-01-01 00:00:00+00:00</th>\n",
       "      <td>213642</td>\n",
       "      <td>54.0</td>\n",
       "      <td>2013-01-01 00:00:00+00:00</td>\n",
       "      <td>213643</td>\n",
       "      <td>11</td>\n",
       "      <td>Mueller</td>\n",
       "      <td>12</td>\n",
       "      <td>Mueller Sport Care Basic Support Level Medium ...</td>\n",
       "      <td>8.40</td>\n",
       "      <td>74676640211</td>\n",
       "      <td>74676640211</td>\n",
       "      <td>7</td>\n",
       "      <td>15000 San Pedro Ave</td>\n",
       "      <td>San Antonio</td>\n",
       "      <td>8</td>\n",
       "      <td>TX</td>\n",
       "      <td>78232</td>\n",
       "      <td>1</td>\n",
       "      <td>Tuesday</td>\n",
       "      <td>453.60</td>\n",
       "    </tr>\n",
       "    <tr>\n",
       "      <th>2013-01-01 00:00:00+00:00</th>\n",
       "      <td>215468</td>\n",
       "      <td>35.0</td>\n",
       "      <td>2013-01-01 00:00:00+00:00</td>\n",
       "      <td>215469</td>\n",
       "      <td>11</td>\n",
       "      <td>Mueller</td>\n",
       "      <td>12</td>\n",
       "      <td>Mueller Sport Care Basic Support Level Medium ...</td>\n",
       "      <td>8.40</td>\n",
       "      <td>74676640211</td>\n",
       "      <td>74676640211</td>\n",
       "      <td>8</td>\n",
       "      <td>735 SW Military Dr</td>\n",
       "      <td>San Antonio</td>\n",
       "      <td>9</td>\n",
       "      <td>TX</td>\n",
       "      <td>78221</td>\n",
       "      <td>1</td>\n",
       "      <td>Tuesday</td>\n",
       "      <td>294.00</td>\n",
       "    </tr>\n",
       "  </tbody>\n",
       "</table>\n",
       "</div>"
      ],
      "text/plain": [
       "                           Unnamed: 0_x  sale_amount  \\\n",
       "sale_date                                              \n",
       "2013-01-01 00:00:00+00:00             0         13.0   \n",
       "2013-01-01 00:00:00+00:00        211816         26.0   \n",
       "2013-01-01 00:00:00+00:00        832656         27.0   \n",
       "2013-01-01 00:00:00+00:00        213642         54.0   \n",
       "2013-01-01 00:00:00+00:00        215468         35.0   \n",
       "\n",
       "                                          sale_date  sale_id  Unnamed: 0_y  \\\n",
       "sale_date                                                                    \n",
       "2013-01-01 00:00:00+00:00 2013-01-01 00:00:00+00:00        1             0   \n",
       "2013-01-01 00:00:00+00:00 2013-01-01 00:00:00+00:00   211817            11   \n",
       "2013-01-01 00:00:00+00:00 2013-01-01 00:00:00+00:00   832657            45   \n",
       "2013-01-01 00:00:00+00:00 2013-01-01 00:00:00+00:00   213643            11   \n",
       "2013-01-01 00:00:00+00:00 2013-01-01 00:00:00+00:00   215469            11   \n",
       "\n",
       "                           item_brand  item_id  \\\n",
       "sale_date                                        \n",
       "2013-01-01 00:00:00+00:00    Riceland        1   \n",
       "2013-01-01 00:00:00+00:00     Mueller       12   \n",
       "2013-01-01 00:00:00+00:00  Mama Marys       46   \n",
       "2013-01-01 00:00:00+00:00     Mueller       12   \n",
       "2013-01-01 00:00:00+00:00     Mueller       12   \n",
       "\n",
       "                                                                   item_name  \\\n",
       "sale_date                                                                      \n",
       "2013-01-01 00:00:00+00:00                     Riceland American Jazmine Rice   \n",
       "2013-01-01 00:00:00+00:00  Mueller Sport Care Basic Support Level Medium ...   \n",
       "2013-01-01 00:00:00+00:00                                        Pizza Sauce   \n",
       "2013-01-01 00:00:00+00:00  Mueller Sport Care Basic Support Level Medium ...   \n",
       "2013-01-01 00:00:00+00:00  Mueller Sport Care Basic Support Level Medium ...   \n",
       "\n",
       "                           item_price   item_upc12   item_upc14  Unnamed: 0  \\\n",
       "sale_date                                                                     \n",
       "2013-01-01 00:00:00+00:00        0.84  35200264013  35200264013           0   \n",
       "2013-01-01 00:00:00+00:00        8.40  74676640211  74676640211           6   \n",
       "2013-01-01 00:00:00+00:00        4.65  35457770664  35457770664           6   \n",
       "2013-01-01 00:00:00+00:00        8.40  74676640211  74676640211           7   \n",
       "2013-01-01 00:00:00+00:00        8.40  74676640211  74676640211           8   \n",
       "\n",
       "                                    store_address   store_city  store_id  \\\n",
       "sale_date                                                                  \n",
       "2013-01-01 00:00:00+00:00  12125 Alamo Ranch Pkwy  San Antonio         1   \n",
       "2013-01-01 00:00:00+00:00  12018 Perrin Beitel Rd  San Antonio         7   \n",
       "2013-01-01 00:00:00+00:00  12018 Perrin Beitel Rd  San Antonio         7   \n",
       "2013-01-01 00:00:00+00:00     15000 San Pedro Ave  San Antonio         8   \n",
       "2013-01-01 00:00:00+00:00      735 SW Military Dr  San Antonio         9   \n",
       "\n",
       "                          store_state  store_zipcode  month day of week  \\\n",
       "sale_date                                                                 \n",
       "2013-01-01 00:00:00+00:00          TX          78253      1     Tuesday   \n",
       "2013-01-01 00:00:00+00:00          TX          78217      1     Tuesday   \n",
       "2013-01-01 00:00:00+00:00          TX          78217      1     Tuesday   \n",
       "2013-01-01 00:00:00+00:00          TX          78232      1     Tuesday   \n",
       "2013-01-01 00:00:00+00:00          TX          78221      1     Tuesday   \n",
       "\n",
       "                           sales_total  \n",
       "sale_date                               \n",
       "2013-01-01 00:00:00+00:00        10.92  \n",
       "2013-01-01 00:00:00+00:00       218.40  \n",
       "2013-01-01 00:00:00+00:00       125.55  \n",
       "2013-01-01 00:00:00+00:00       453.60  \n",
       "2013-01-01 00:00:00+00:00       294.00  "
      ]
     },
     "execution_count": 24,
     "metadata": {},
     "output_type": "execute_result"
    }
   ],
   "source": [
    "df.head()"
   ]
  },
  {
   "cell_type": "markdown",
   "id": "19c9847d",
   "metadata": {},
   "source": [
    "# 6. Make sure all the work that you have done above is reproducible. That is, you should put the code above into separate functions and be able to re-run the functions and get the same results."
   ]
  },
  {
   "cell_type": "code",
   "execution_count": null,
   "id": "e94257e1",
   "metadata": {},
   "outputs": [],
   "source": [
    "# done in prepare.py"
   ]
  },
  {
   "cell_type": "markdown",
   "id": "70b2fd2f",
   "metadata": {},
   "source": [
    "# Using the OPS data acquired in the Acquire exercises opsd_germany_daily.csv, complete the following:"
   ]
  },
  {
   "cell_type": "markdown",
   "id": "65c14b0b",
   "metadata": {},
   "source": [
    "# 1. Convert date column to datetime format."
   ]
  },
  {
   "cell_type": "code",
   "execution_count": 25,
   "id": "9ba0aa49",
   "metadata": {},
   "outputs": [
    {
     "name": "stdout",
     "output_type": "stream",
     "text": [
      "Data is cached. Reading data from .csv file.\n",
      "Acquisition complete\n"
     ]
    }
   ],
   "source": [
    "ops_df = a.get_power_data()"
   ]
  },
  {
   "cell_type": "code",
   "execution_count": 26,
   "id": "beae5116",
   "metadata": {},
   "outputs": [
    {
     "name": "stdout",
     "output_type": "stream",
     "text": [
      "<class 'pandas.core.frame.DataFrame'>\n",
      "RangeIndex: 4383 entries, 0 to 4382\n",
      "Data columns (total 5 columns):\n",
      " #   Column       Non-Null Count  Dtype  \n",
      "---  ------       --------------  -----  \n",
      " 0   Date         4383 non-null   object \n",
      " 1   Consumption  4383 non-null   float64\n",
      " 2   Wind         4383 non-null   float64\n",
      " 3   Solar        4383 non-null   float64\n",
      " 4   Wind+Solar   4383 non-null   float64\n",
      "dtypes: float64(4), object(1)\n",
      "memory usage: 171.3+ KB\n"
     ]
    }
   ],
   "source": [
    "ops_df.info()"
   ]
  },
  {
   "cell_type": "code",
   "execution_count": 27,
   "id": "35f0c470",
   "metadata": {},
   "outputs": [
    {
     "data": {
      "text/html": [
       "<div>\n",
       "<style scoped>\n",
       "    .dataframe tbody tr th:only-of-type {\n",
       "        vertical-align: middle;\n",
       "    }\n",
       "\n",
       "    .dataframe tbody tr th {\n",
       "        vertical-align: top;\n",
       "    }\n",
       "\n",
       "    .dataframe thead th {\n",
       "        text-align: right;\n",
       "    }\n",
       "</style>\n",
       "<table border=\"1\" class=\"dataframe\">\n",
       "  <thead>\n",
       "    <tr style=\"text-align: right;\">\n",
       "      <th></th>\n",
       "      <th>Date</th>\n",
       "      <th>Consumption</th>\n",
       "      <th>Wind</th>\n",
       "      <th>Solar</th>\n",
       "      <th>Wind+Solar</th>\n",
       "    </tr>\n",
       "  </thead>\n",
       "  <tbody>\n",
       "    <tr>\n",
       "      <th>0</th>\n",
       "      <td>2006-01-01</td>\n",
       "      <td>1069.184</td>\n",
       "      <td>0.0</td>\n",
       "      <td>0.0</td>\n",
       "      <td>0.0</td>\n",
       "    </tr>\n",
       "    <tr>\n",
       "      <th>1</th>\n",
       "      <td>2006-01-02</td>\n",
       "      <td>1380.521</td>\n",
       "      <td>0.0</td>\n",
       "      <td>0.0</td>\n",
       "      <td>0.0</td>\n",
       "    </tr>\n",
       "    <tr>\n",
       "      <th>2</th>\n",
       "      <td>2006-01-03</td>\n",
       "      <td>1442.533</td>\n",
       "      <td>0.0</td>\n",
       "      <td>0.0</td>\n",
       "      <td>0.0</td>\n",
       "    </tr>\n",
       "    <tr>\n",
       "      <th>3</th>\n",
       "      <td>2006-01-04</td>\n",
       "      <td>1457.217</td>\n",
       "      <td>0.0</td>\n",
       "      <td>0.0</td>\n",
       "      <td>0.0</td>\n",
       "    </tr>\n",
       "    <tr>\n",
       "      <th>4</th>\n",
       "      <td>2006-01-05</td>\n",
       "      <td>1477.131</td>\n",
       "      <td>0.0</td>\n",
       "      <td>0.0</td>\n",
       "      <td>0.0</td>\n",
       "    </tr>\n",
       "  </tbody>\n",
       "</table>\n",
       "</div>"
      ],
      "text/plain": [
       "         Date  Consumption  Wind  Solar  Wind+Solar\n",
       "0  2006-01-01     1069.184   0.0    0.0         0.0\n",
       "1  2006-01-02     1380.521   0.0    0.0         0.0\n",
       "2  2006-01-03     1442.533   0.0    0.0         0.0\n",
       "3  2006-01-04     1457.217   0.0    0.0         0.0\n",
       "4  2006-01-05     1477.131   0.0    0.0         0.0"
      ]
     },
     "execution_count": 27,
     "metadata": {},
     "output_type": "execute_result"
    }
   ],
   "source": [
    "ops_df.head()"
   ]
  },
  {
   "cell_type": "code",
   "execution_count": 28,
   "id": "7fa596bd",
   "metadata": {},
   "outputs": [],
   "source": [
    "ops_df['Date'] = pd.to_datetime(ops_df['Date'])\n"
   ]
  },
  {
   "cell_type": "code",
   "execution_count": 29,
   "id": "7d8f86ee",
   "metadata": {},
   "outputs": [
    {
     "name": "stdout",
     "output_type": "stream",
     "text": [
      "<class 'pandas.core.frame.DataFrame'>\n",
      "RangeIndex: 4383 entries, 0 to 4382\n",
      "Data columns (total 5 columns):\n",
      " #   Column       Non-Null Count  Dtype         \n",
      "---  ------       --------------  -----         \n",
      " 0   Date         4383 non-null   datetime64[ns]\n",
      " 1   Consumption  4383 non-null   float64       \n",
      " 2   Wind         4383 non-null   float64       \n",
      " 3   Solar        4383 non-null   float64       \n",
      " 4   Wind+Solar   4383 non-null   float64       \n",
      "dtypes: datetime64[ns](1), float64(4)\n",
      "memory usage: 171.3 KB\n"
     ]
    }
   ],
   "source": [
    "ops_df.info()"
   ]
  },
  {
   "cell_type": "markdown",
   "id": "c6a79594",
   "metadata": {},
   "source": [
    "# 2. Plot the distribution of each of your variables."
   ]
  },
  {
   "cell_type": "code",
   "execution_count": 30,
   "id": "47958bdd",
   "metadata": {},
   "outputs": [
    {
     "data": {
      "text/plain": [
       "<AxesSubplot:>"
      ]
     },
     "execution_count": 30,
     "metadata": {},
     "output_type": "execute_result"
    },
    {
     "data": {
      "image/png": "[encoded data removed]",
      "text/plain": [
       "<Figure size 432x288 with 1 Axes>"
      ]
     },
     "metadata": {
      "needs_background": "light"
     },
     "output_type": "display_data"
    }
   ],
   "source": [
    "ops_df.Consumption.hist()"
   ]
  },
  {
   "cell_type": "code",
   "execution_count": 31,
   "id": "55d5f0d1",
   "metadata": {},
   "outputs": [
    {
     "data": {
      "text/plain": [
       "<AxesSubplot:>"
      ]
     },
     "execution_count": 31,
     "metadata": {},
     "output_type": "execute_result"
    },
    {
     "data": {
      "image/png": "[encoded data removed]",
      "text/plain": [
       "<Figure size 432x288 with 1 Axes>"
      ]
     },
     "metadata": {
      "needs_background": "light"
     },
     "output_type": "display_data"
    }
   ],
   "source": [
    "ops_df.Wind.hist()"
   ]
  },
  {
   "cell_type": "code",
   "execution_count": 32,
   "id": "e5ad916b",
   "metadata": {},
   "outputs": [
    {
     "data": {
      "text/plain": [
       "<AxesSubplot:>"
      ]
     },
     "execution_count": 32,
     "metadata": {},
     "output_type": "execute_result"
    },
    {
     "data": {
      "image/png": "[encoded data removed]",
      "text/plain": [
       "<Figure size 432x288 with 1 Axes>"
      ]
     },
     "metadata": {
      "needs_background": "light"
     },
     "output_type": "display_data"
    }
   ],
   "source": [
    "ops_df.Solar.hist()"
   ]
  },
  {
   "cell_type": "code",
   "execution_count": 33,
   "id": "bf897b6e",
   "metadata": {},
   "outputs": [],
   "source": [
    "\n",
    "\n",
    "ops_df = ops_df.rename(columns={'Wind+Solar': 'wind_solar'})\n"
   ]
  },
  {
   "cell_type": "code",
   "execution_count": 34,
   "id": "6c49b926",
   "metadata": {},
   "outputs": [
    {
     "data": {
      "text/plain": [
       "<AxesSubplot:>"
      ]
     },
     "execution_count": 34,
     "metadata": {},
     "output_type": "execute_result"
    },
    {
     "data": {
      "image/png": "[encoded data removed]",
      "text/plain": [
       "<Figure size 432x288 with 1 Axes>"
      ]
     },
     "metadata": {
      "needs_background": "light"
     },
     "output_type": "display_data"
    }
   ],
   "source": [
    "ops_df.wind_solar.hist()"
   ]
  },
  {
   "cell_type": "code",
   "execution_count": 36,
   "id": "59a36181",
   "metadata": {},
   "outputs": [
    {
     "data": {
      "text/plain": [
       "<AxesSubplot:xlabel='Consumption', ylabel='Count'>"
      ]
     },
     "execution_count": 36,
     "metadata": {},
     "output_type": "execute_result"
    },
    {
     "data": {
      "image/png": "[encoded data removed]",
      "text/plain": [
       "<Figure size 432x288 with 1 Axes>"
      ]
     },
     "metadata": {},
     "output_type": "display_data"
    }
   ],
   "source": [
    "# Alternative\n",
    "\n",
    "import seaborn as sns\n",
    "sns.set_theme(style = 'darkgrid')\n",
    "\n",
    "sns.histplot(ops_df, x = 'Consumption')\n",
    "sns.histplot(ops_df, x = 'Wind', color = 'yellow')\n",
    "sns.histplot(ops_df, x = 'Solar', color = 'red')\n",
    "sns.histplot(ops_df, x = 'wind_solar', color = 'green')\n"
   ]
  },
  {
   "cell_type": "markdown",
   "id": "e4094f90",
   "metadata": {},
   "source": [
    "# 3. Set the index to be the datetime variable."
   ]
  },
  {
   "cell_type": "code",
   "execution_count": 37,
   "id": "da558b14",
   "metadata": {},
   "outputs": [],
   "source": [
    "ops_df = ops_df.set_index('Date').sort_index()"
   ]
  },
  {
   "cell_type": "markdown",
   "id": "0fe222a5",
   "metadata": {},
   "source": [
    "# 4. Add a month and a year column to your dataframe."
   ]
  },
  {
   "cell_type": "code",
   "execution_count": 38,
   "id": "0de6165c",
   "metadata": {},
   "outputs": [
    {
     "data": {
      "text/html": [
       "<div>\n",
       "<style scoped>\n",
       "    .dataframe tbody tr th:only-of-type {\n",
       "        vertical-align: middle;\n",
       "    }\n",
       "\n",
       "    .dataframe tbody tr th {\n",
       "        vertical-align: top;\n",
       "    }\n",
       "\n",
       "    .dataframe thead th {\n",
       "        text-align: right;\n",
       "    }\n",
       "</style>\n",
       "<table border=\"1\" class=\"dataframe\">\n",
       "  <thead>\n",
       "    <tr style=\"text-align: right;\">\n",
       "      <th></th>\n",
       "      <th>Consumption</th>\n",
       "      <th>Wind</th>\n",
       "      <th>Solar</th>\n",
       "      <th>wind_solar</th>\n",
       "    </tr>\n",
       "    <tr>\n",
       "      <th>Date</th>\n",
       "      <th></th>\n",
       "      <th></th>\n",
       "      <th></th>\n",
       "      <th></th>\n",
       "    </tr>\n",
       "  </thead>\n",
       "  <tbody>\n",
       "    <tr>\n",
       "      <th>2006-01-01</th>\n",
       "      <td>1069.184</td>\n",
       "      <td>0.0</td>\n",
       "      <td>0.0</td>\n",
       "      <td>0.0</td>\n",
       "    </tr>\n",
       "    <tr>\n",
       "      <th>2006-01-02</th>\n",
       "      <td>1380.521</td>\n",
       "      <td>0.0</td>\n",
       "      <td>0.0</td>\n",
       "      <td>0.0</td>\n",
       "    </tr>\n",
       "    <tr>\n",
       "      <th>2006-01-03</th>\n",
       "      <td>1442.533</td>\n",
       "      <td>0.0</td>\n",
       "      <td>0.0</td>\n",
       "      <td>0.0</td>\n",
       "    </tr>\n",
       "  </tbody>\n",
       "</table>\n",
       "</div>"
      ],
      "text/plain": [
       "            Consumption  Wind  Solar  wind_solar\n",
       "Date                                            \n",
       "2006-01-01     1069.184   0.0    0.0         0.0\n",
       "2006-01-02     1380.521   0.0    0.0         0.0\n",
       "2006-01-03     1442.533   0.0    0.0         0.0"
      ]
     },
     "execution_count": 38,
     "metadata": {},
     "output_type": "execute_result"
    }
   ],
   "source": [
    "ops_df.head(3)"
   ]
  },
  {
   "cell_type": "code",
   "execution_count": 39,
   "id": "84f44ec0",
   "metadata": {},
   "outputs": [],
   "source": [
    "ops_df['month'] = ops_df.index.month\n"
   ]
  },
  {
   "cell_type": "code",
   "execution_count": 40,
   "id": "2de309c8",
   "metadata": {},
   "outputs": [],
   "source": [
    "ops_df['year'] = ops_df.index.year"
   ]
  },
  {
   "cell_type": "code",
   "execution_count": 41,
   "id": "39c40050",
   "metadata": {},
   "outputs": [
    {
     "data": {
      "text/html": [
       "<div>\n",
       "<style scoped>\n",
       "    .dataframe tbody tr th:only-of-type {\n",
       "        vertical-align: middle;\n",
       "    }\n",
       "\n",
       "    .dataframe tbody tr th {\n",
       "        vertical-align: top;\n",
       "    }\n",
       "\n",
       "    .dataframe thead th {\n",
       "        text-align: right;\n",
       "    }\n",
       "</style>\n",
       "<table border=\"1\" class=\"dataframe\">\n",
       "  <thead>\n",
       "    <tr style=\"text-align: right;\">\n",
       "      <th></th>\n",
       "      <th>Consumption</th>\n",
       "      <th>Wind</th>\n",
       "      <th>Solar</th>\n",
       "      <th>wind_solar</th>\n",
       "      <th>month</th>\n",
       "      <th>year</th>\n",
       "    </tr>\n",
       "    <tr>\n",
       "      <th>Date</th>\n",
       "      <th></th>\n",
       "      <th></th>\n",
       "      <th></th>\n",
       "      <th></th>\n",
       "      <th></th>\n",
       "      <th></th>\n",
       "    </tr>\n",
       "  </thead>\n",
       "  <tbody>\n",
       "    <tr>\n",
       "      <th>2006-01-01</th>\n",
       "      <td>1069.184</td>\n",
       "      <td>0.0</td>\n",
       "      <td>0.0</td>\n",
       "      <td>0.0</td>\n",
       "      <td>1</td>\n",
       "      <td>2006</td>\n",
       "    </tr>\n",
       "    <tr>\n",
       "      <th>2006-01-02</th>\n",
       "      <td>1380.521</td>\n",
       "      <td>0.0</td>\n",
       "      <td>0.0</td>\n",
       "      <td>0.0</td>\n",
       "      <td>1</td>\n",
       "      <td>2006</td>\n",
       "    </tr>\n",
       "    <tr>\n",
       "      <th>2006-01-03</th>\n",
       "      <td>1442.533</td>\n",
       "      <td>0.0</td>\n",
       "      <td>0.0</td>\n",
       "      <td>0.0</td>\n",
       "      <td>1</td>\n",
       "      <td>2006</td>\n",
       "    </tr>\n",
       "    <tr>\n",
       "      <th>2006-01-04</th>\n",
       "      <td>1457.217</td>\n",
       "      <td>0.0</td>\n",
       "      <td>0.0</td>\n",
       "      <td>0.0</td>\n",
       "      <td>1</td>\n",
       "      <td>2006</td>\n",
       "    </tr>\n",
       "    <tr>\n",
       "      <th>2006-01-05</th>\n",
       "      <td>1477.131</td>\n",
       "      <td>0.0</td>\n",
       "      <td>0.0</td>\n",
       "      <td>0.0</td>\n",
       "      <td>1</td>\n",
       "      <td>2006</td>\n",
       "    </tr>\n",
       "  </tbody>\n",
       "</table>\n",
       "</div>"
      ],
      "text/plain": [
       "            Consumption  Wind  Solar  wind_solar  month  year\n",
       "Date                                                         \n",
       "2006-01-01     1069.184   0.0    0.0         0.0      1  2006\n",
       "2006-01-02     1380.521   0.0    0.0         0.0      1  2006\n",
       "2006-01-03     1442.533   0.0    0.0         0.0      1  2006\n",
       "2006-01-04     1457.217   0.0    0.0         0.0      1  2006\n",
       "2006-01-05     1477.131   0.0    0.0         0.0      1  2006"
      ]
     },
     "execution_count": 41,
     "metadata": {},
     "output_type": "execute_result"
    }
   ],
   "source": [
    "ops_df.head()"
   ]
  },
  {
   "cell_type": "markdown",
   "id": "e8fe6aa6",
   "metadata": {},
   "source": [
    "# 5. Fill any missing values."
   ]
  },
  {
   "cell_type": "code",
   "execution_count": 42,
   "id": "83d7eb93",
   "metadata": {},
   "outputs": [
    {
     "data": {
      "text/plain": [
       "Consumption    0\n",
       "Wind           0\n",
       "Solar          0\n",
       "wind_solar     0\n",
       "month          0\n",
       "year           0\n",
       "dtype: int64"
      ]
     },
     "execution_count": 42,
     "metadata": {},
     "output_type": "execute_result"
    }
   ],
   "source": [
    "ops_df.isnull().sum()"
   ]
  },
  {
   "cell_type": "code",
   "execution_count": 43,
   "id": "21f4c6d3",
   "metadata": {},
   "outputs": [],
   "source": [
    "ops_df = ops_df.fillna(0)"
   ]
  },
  {
   "cell_type": "code",
   "execution_count": 44,
   "id": "fe182216",
   "metadata": {},
   "outputs": [
    {
     "data": {
      "text/html": [
       "<div>\n",
       "<style scoped>\n",
       "    .dataframe tbody tr th:only-of-type {\n",
       "        vertical-align: middle;\n",
       "    }\n",
       "\n",
       "    .dataframe tbody tr th {\n",
       "        vertical-align: top;\n",
       "    }\n",
       "\n",
       "    .dataframe thead th {\n",
       "        text-align: right;\n",
       "    }\n",
       "</style>\n",
       "<table border=\"1\" class=\"dataframe\">\n",
       "  <thead>\n",
       "    <tr style=\"text-align: right;\">\n",
       "      <th></th>\n",
       "      <th>Consumption</th>\n",
       "      <th>Wind</th>\n",
       "      <th>Solar</th>\n",
       "      <th>wind_solar</th>\n",
       "      <th>month</th>\n",
       "      <th>year</th>\n",
       "    </tr>\n",
       "    <tr>\n",
       "      <th>Date</th>\n",
       "      <th></th>\n",
       "      <th></th>\n",
       "      <th></th>\n",
       "      <th></th>\n",
       "      <th></th>\n",
       "      <th></th>\n",
       "    </tr>\n",
       "  </thead>\n",
       "  <tbody>\n",
       "    <tr>\n",
       "      <th>2006-01-01</th>\n",
       "      <td>1069.184</td>\n",
       "      <td>0.0</td>\n",
       "      <td>0.0</td>\n",
       "      <td>0.0</td>\n",
       "      <td>1</td>\n",
       "      <td>2006</td>\n",
       "    </tr>\n",
       "    <tr>\n",
       "      <th>2006-01-02</th>\n",
       "      <td>1380.521</td>\n",
       "      <td>0.0</td>\n",
       "      <td>0.0</td>\n",
       "      <td>0.0</td>\n",
       "      <td>1</td>\n",
       "      <td>2006</td>\n",
       "    </tr>\n",
       "    <tr>\n",
       "      <th>2006-01-03</th>\n",
       "      <td>1442.533</td>\n",
       "      <td>0.0</td>\n",
       "      <td>0.0</td>\n",
       "      <td>0.0</td>\n",
       "      <td>1</td>\n",
       "      <td>2006</td>\n",
       "    </tr>\n",
       "    <tr>\n",
       "      <th>2006-01-04</th>\n",
       "      <td>1457.217</td>\n",
       "      <td>0.0</td>\n",
       "      <td>0.0</td>\n",
       "      <td>0.0</td>\n",
       "      <td>1</td>\n",
       "      <td>2006</td>\n",
       "    </tr>\n",
       "    <tr>\n",
       "      <th>2006-01-05</th>\n",
       "      <td>1477.131</td>\n",
       "      <td>0.0</td>\n",
       "      <td>0.0</td>\n",
       "      <td>0.0</td>\n",
       "      <td>1</td>\n",
       "      <td>2006</td>\n",
       "    </tr>\n",
       "  </tbody>\n",
       "</table>\n",
       "</div>"
      ],
      "text/plain": [
       "            Consumption  Wind  Solar  wind_solar  month  year\n",
       "Date                                                         \n",
       "2006-01-01     1069.184   0.0    0.0         0.0      1  2006\n",
       "2006-01-02     1380.521   0.0    0.0         0.0      1  2006\n",
       "2006-01-03     1442.533   0.0    0.0         0.0      1  2006\n",
       "2006-01-04     1457.217   0.0    0.0         0.0      1  2006\n",
       "2006-01-05     1477.131   0.0    0.0         0.0      1  2006"
      ]
     },
     "execution_count": 44,
     "metadata": {},
     "output_type": "execute_result"
    }
   ],
   "source": [
    "ops_df.head()"
   ]
  },
  {
   "cell_type": "markdown",
   "id": "f839067e",
   "metadata": {},
   "source": [
    "# 6. Make sure all the work that you have done above is reproducible. That is, you should put the code above into separate functions and be able to re-run the functions and get the same results."
   ]
  },
  {
   "cell_type": "code",
   "execution_count": 45,
   "id": "3121440e",
   "metadata": {},
   "outputs": [],
   "source": [
    "# done"
   ]
  }
 ],
 "metadata": {
  "kernelspec": {
   "display_name": "Python 3 (ipykernel)",
   "language": "python",
   "name": "python3"
  },
  "language_info": {
   "codemirror_mode": {
    "name": "ipython",
    "version": 3
   },
   "file_extension": ".py",
   "mimetype": "text/x-python",
   "name": "python",
   "nbconvert_exporter": "python",
   "pygments_lexer": "ipython3",
   "version": "3.8.8"
  }
 },
 "nbformat": 4,
 "nbformat_minor": 5
}
